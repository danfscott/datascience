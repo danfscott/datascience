{
 "cells": [
  {
   "cell_type": "markdown",
   "id": "6319f591-6bac-4f4c-988e-785d92f987d4",
   "metadata": {},
   "source": [
    "# Data Science Tools and Ecosystem\n"
   ]
  },
  {
   "cell_type": "markdown",
   "id": "142c8088-df8d-45e0-aeee-0f877cc7099f",
   "metadata": {
    "tags": []
   },
   "source": [
    "In this notebook, Data Science Tools and Ecosystem are summarized."
   ]
  },
  {
   "cell_type": "markdown",
   "id": "0233b235-3a3a-48a6-8668-01e63c852fe9",
   "metadata": {},
   "source": [
    "**Objectives**\n",
    "- List popular languages for data science\n",
    "- Understand how to perform arithmetic by addition\n",
    "- Understand how to perform arithmetic by division"
   ]
  },
  {
   "cell_type": "markdown",
   "id": "a8553b4a-9b05-41c5-8358-72e1ae3b54a6",
   "metadata": {},
   "source": [
    "Some of the popular languages that Data Scientists use are:\n",
    "1. Python\n",
    "2. C#\n",
    "3. Java\n"
   ]
  },
  {
   "cell_type": "markdown",
   "id": "12e7524f-16c9-4d79-b68e-d2511b73e591",
   "metadata": {
    "tags": []
   },
   "source": [
    "| Data science tools |\n",
    "|--------------------|\n",
    "|   Java             |\n",
    "|   C#               |\n",
    "|   Python           |"
   ]
  },
  {
   "cell_type": "markdown",
   "id": "7acb48b5-6570-4709-ac46-ce8000f6b68f",
   "metadata": {},
   "source": [
    "### Below are a few examples of evaluating arithmetic expressions in Python"
   ]
  },
  {
   "cell_type": "markdown",
   "id": "a12fb623-fa38-49aa-a31b-7cc9f25d5c7f",
   "metadata": {
    "tags": []
   },
   "source": [
    "This a simple arithmetic expression to mutiply then add integers"
   ]
  },
  {
   "cell_type": "code",
   "execution_count": null,
   "id": "5dff6ae8-e398-45ed-ac9f-53adf5747123",
   "metadata": {
    "tags": []
   },
   "outputs": [],
   "source": [
    "(3*4)+5"
   ]
  },
  {
   "cell_type": "markdown",
   "id": "d0052f5a-519f-428b-9c5f-dcc8a44d6e0d",
   "metadata": {
    "tags": []
   },
   "source": [
    "This will convert 200 minutes to hours by diving by 60"
   ]
  },
  {
   "cell_type": "code",
   "execution_count": null,
   "id": "afd58ef5-a118-4992-b30c-6264df9958e3",
   "metadata": {
    "tags": []
   },
   "outputs": [],
   "source": [
    "200 / 60"
   ]
  },
  {
   "cell_type": "markdown",
   "id": "8c928210-d5fd-48c6-8e55-ac9d766907d3",
   "metadata": {},
   "source": [
    "## Author\n",
    "Dan Scott"
   ]
  },
  {
   "cell_type": "code",
   "execution_count": null,
   "id": "8691c7dc-3c71-4fa9-8b90-a1e1f4b5fcb2",
   "metadata": {},
   "outputs": [],
   "source": []
  }
 ],
 "metadata": {
  "kernelspec": {
   "display_name": "Python",
   "language": "python",
   "name": "conda-env-python-py"
  },
  "language_info": {
   "codemirror_mode": {
    "name": "ipython",
    "version": 3
   },
   "file_extension": ".py",
   "mimetype": "text/x-python",
   "name": "python",
   "nbconvert_exporter": "python",
   "pygments_lexer": "ipython3",
   "version": "3.7.12"
  }
 },
 "nbformat": 4,
 "nbformat_minor": 5
}
